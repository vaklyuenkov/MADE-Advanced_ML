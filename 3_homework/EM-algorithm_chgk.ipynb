{
 "cells": [
  {
   "cell_type": "markdown",
   "metadata": {},
   "source": [
    "## Homework №3"
   ]
  },
  {
   "cell_type": "markdown",
   "metadata": {},
   "source": [
    "Background: в спортивном “Что? Где? Когда?” соревнующиеся команды отвечают на одни и те же вопросы. После минуты обсуждения команды записывают и сдают свои ответы на карточках; побеждает тот, кто ответил на большее число вопросов. Турнир обычно состоит из нескольких десятков вопросов (обычно 36 или 45, иногда 60, больше редко). Часто бывают синхронные турниры, когда на одни и те же вопросы отвечают команды на сотнях игровых площадок по всему миру, т.е. в одном турнире могут играть сотни, а то и тысячи команд. Соответственно, нам нужно:\n",
    "построить рейтинг-лист, который способен нетривиально предсказывать результаты будущих турниров;\n",
    "при этом, поскольку ЧГК — это хобби, и контрактов тут никаких нет, игроки постоянно переходят из команды в команду, сильный игрок может на один турнир сесть поиграть за другую команду и т.д.; поэтому единицей рейтинг-листа должна быть не команда, а отдельный игрок;\n",
    "а что сильно упрощает задачу и переводит её в область домашних заданий на EM-алгоритм — это характер данных: начиная с какого-то момента, в базу результатов начали вносить все повопросные результаты команд, т.е. в данных будут записи вида “какая команда на какой вопрос правильно ответила”.\n"
   ]
  },
  {
   "cell_type": "markdown",
   "metadata": {},
   "source": [
    "#### imports"
   ]
  },
  {
   "cell_type": "code",
   "execution_count": 1,
   "metadata": {},
   "outputs": [],
   "source": [
    "import pickle\n",
    "import pandas as pd\n",
    "import numpy as np\n",
    "import matplotlib.pyplot as plt\n",
    "\n",
    "from datetime import datetime\n",
    "\n",
    "from sklearn.linear_model import LogisticRegression\n",
    "from sklearn.preprocessing import OneHotEncoder\n",
    "from tqdm import tqdm\n",
    "\n",
    "import scipy.stats as sps\n",
    "\n"
   ]
  },
  {
   "cell_type": "markdown",
   "metadata": {},
   "source": [
    "### 1. \n",
    "Прочитайте и проанализируйте данные, выберите турниры, в которых есть данные о составах команд и повопросных результатах (поле mask в results.pkl). Для унификации предлагаю:\n",
    "* взять в тренировочный набор турниры с dateStart из 2019 года; \n",
    "* в тестовый — турниры с dateStart из 2020 года.\n"
   ]
  },
  {
   "cell_type": "code",
   "execution_count": 2,
   "metadata": {},
   "outputs": [
    {
     "name": "stderr",
     "output_type": "stream",
     "text": [
      "100%|██████████| 5528/5528 [00:28<00:00, 195.83it/s]  \n"
     ]
    }
   ],
   "source": [
    "tournaments = pickle.load(open('data/tournaments.pkl', 'rb'))\n",
    "results = pickle.load(open('data/results.pkl', 'rb'))\n",
    "\n",
    "players = pickle.load(open('data/players.pkl', 'rb'))\n",
    "players_df = pd.DataFrame.from_dict(players, orient='index')\n",
    "with open('data/players_df.pkl', 'wb') as f:\n",
    "    pickle.dump(players_df, f)   \n",
    "    \n",
    "    \n",
    "year_train_start = 2019\n",
    "year_validation_start = 2020\n",
    "\n",
    "data = []\n",
    "for tournament_num in tqdm(tournaments.keys()):\n",
    "        if results[tournament_num] != []:      \n",
    "            year = int(tournaments[tournament_num]['dateStart'].split('-')[0])\n",
    "            if year in [year_train_start, year_validation_start]:\n",
    "                for team in results[tournament_num]:\n",
    "                    if not team.get('mask') is None:\n",
    "                        if not '?' in team.get('mask') and not 'X' in team['mask']:\n",
    "                            for i, answer in enumerate(team['mask']):\n",
    "                                question_id = tournament_num*100000 + i\n",
    "                                for member in team['teamMembers']:\n",
    "                                    question_data = dict()\n",
    "                                    question_data['answer'] = int(answer)\n",
    "                                    question_data['question_id'] = question_id\n",
    "                                    question_data['year'] = year\n",
    "                                    question_data['team_id'] = tournaments[tournament_num]['id']\n",
    "                                    question_data['player_id'] = member['player']['id']\n",
    "\n",
    "                                    data.append(question_data)\n",
    "df = pd.DataFrame.from_dict(data)\n",
    "\n",
    "df = pd.merge(df, players_df, left_on=['player_id'], right_on=['id'])\n",
    "with open('data/df.pkl', 'wb') as f:\n",
    "    pickle.dump(df, f) \n",
    "    \n",
    "    \n",
    "train = df[df['year'] == year_train_start]\n",
    "val = df[df['year'] == year_validation_start]\n",
    "train = pd.merge(train, players_df, left_on=['player_id'], right_on=['id'])\n",
    "val = pd.merge(val, players_df, left_on=['player_id'], right_on=['id'])\n",
    "\n",
    "\n",
    "\n",
    "with open('data/train_questions.pkl', 'wb') as f:\n",
    "    pickle.dump(train, f)\n",
    "with open('data/val_questions.pkl', 'wb') as f:\n",
    "    pickle.dump(val, f)\n",
    "with open('data/df.pkl', 'wb') as f:\n",
    "    pickle.dump(df, f)\n"
   ]
  },
  {
   "cell_type": "code",
   "execution_count": 3,
   "metadata": {},
   "outputs": [],
   "source": [
    "df = pickle.load(open('data/df.pkl', 'rb'))\n",
    "train = pickle.load(open('data/train_questions.pkl', 'rb'))\n",
    "val = pickle.load(open('data/val_questions.pkl', 'rb'))"
   ]
  },
  {
   "cell_type": "markdown",
   "metadata": {},
   "source": [
    "### 2. \n",
    "Постройте baseline-модель на основе линейной или логистической регрессии, которая будет обучать рейтинг-лист игроков. Замечания и подсказки:\n",
    "* повопросные результаты — это фактически результаты броска монетки, и их предсказание скорее всего имеет отношение к бинарной классификации;\n",
    "* в разных турнирах вопросы совсем разного уровня сложности, поэтому модель должна это учитывать; \n",
    "* скорее всего, модель должна будет явно обучать не только силу каждого игрока, но и сложность каждого вопроса;\n",
    "* для baseline-модели можно забыть о командах и считать, что повопросные результаты команды просто относятся к каждому из её игроков.\n"
   ]
  },
  {
   "cell_type": "markdown",
   "metadata": {},
   "source": [
    "____"
   ]
  },
  {
   "cell_type": "markdown",
   "metadata": {},
   "source": [
    "Предположения:\n",
    "* Если команда ответила на вопрос, значит каждый игрок взял этот вопрос. \n",
    "* Сделаем сильное предположение что сложность вопроса не зависит от турнира, а только от доли команд, которые ответили на него верно. Сделав это предположение мы не учитываем силу команд и сложность турниров, но получаем легко вычислимую и интерпритируемую величину сложности вопроса.\n",
    "* Ответ будем предсказывать логистической регрессией по сложности вопроса своей моделью для каждого игрока.\n",
    "* Рейтинг игрока - взвещенная (на вероятность появления вопроса определённой сложности) сумма его ответов на вопросы всех сложностей, - численная апроксимация интеграла для вычисления матожидания ответа игрока на вопрос."
   ]
  },
  {
   "cell_type": "code",
   "execution_count": 4,
   "metadata": {},
   "outputs": [],
   "source": [
    "# Calculate uestion difficulty\n",
    "def calculate_question_diff(df):\n",
    "    \n",
    "    question_scores = df.groupby(['question_id'])['answer'].agg('sum')\n",
    "    question_count = df.groupby(['question_id'])['answer'].agg('count')\n",
    "    difficulty_of_questions = question_scores.div(question_count);\n",
    "    df = pd.merge(df, difficulty_of_questions, on=['question_id'])\n",
    "    df.rename(columns={'answer_y':'question_difficulty'}, inplace=True)\n",
    "    df.rename(columns={'answer_x':'answer'}, inplace=True)\n",
    "    return df\n",
    "\n",
    "df = calculate_question_diff(df)\n",
    "\n",
    "with open('data/df_questions_with_diff.pkl', 'wb') as f:\n",
    "        pickle.dump(df, f)"
   ]
  },
  {
   "cell_type": "code",
   "execution_count": 5,
   "metadata": {},
   "outputs": [],
   "source": [
    "df = pickle.load(open('data/df_questions_with_diff.pkl', 'rb'))"
   ]
  },
  {
   "cell_type": "code",
   "execution_count": 6,
   "metadata": {},
   "outputs": [
    {
     "data": {
      "text/html": [
       "<div>\n",
       "<style scoped>\n",
       "    .dataframe tbody tr th:only-of-type {\n",
       "        vertical-align: middle;\n",
       "    }\n",
       "\n",
       "    .dataframe tbody tr th {\n",
       "        vertical-align: top;\n",
       "    }\n",
       "\n",
       "    .dataframe thead th {\n",
       "        text-align: right;\n",
       "    }\n",
       "</style>\n",
       "<table border=\"1\" class=\"dataframe\">\n",
       "  <thead>\n",
       "    <tr style=\"text-align: right;\">\n",
       "      <th></th>\n",
       "      <th>answer</th>\n",
       "      <th>question_id</th>\n",
       "      <th>year</th>\n",
       "      <th>team_id</th>\n",
       "      <th>player_id</th>\n",
       "      <th>id</th>\n",
       "      <th>name</th>\n",
       "      <th>patronymic</th>\n",
       "      <th>surname</th>\n",
       "      <th>question_difficulty</th>\n",
       "    </tr>\n",
       "  </thead>\n",
       "  <tbody>\n",
       "    <tr>\n",
       "      <th>0</th>\n",
       "      <td>1</td>\n",
       "      <td>477200000</td>\n",
       "      <td>2019</td>\n",
       "      <td>4772</td>\n",
       "      <td>6212</td>\n",
       "      <td>6212</td>\n",
       "      <td>Юрий</td>\n",
       "      <td>Яковлевич</td>\n",
       "      <td>Выменец</td>\n",
       "      <td>0.892295</td>\n",
       "    </tr>\n",
       "    <tr>\n",
       "      <th>1</th>\n",
       "      <td>1</td>\n",
       "      <td>477200000</td>\n",
       "      <td>2019</td>\n",
       "      <td>4772</td>\n",
       "      <td>18332</td>\n",
       "      <td>18332</td>\n",
       "      <td>Александр</td>\n",
       "      <td>Витальевич</td>\n",
       "      <td>Либер</td>\n",
       "      <td>0.892295</td>\n",
       "    </tr>\n",
       "    <tr>\n",
       "      <th>2</th>\n",
       "      <td>1</td>\n",
       "      <td>477200000</td>\n",
       "      <td>2019</td>\n",
       "      <td>4772</td>\n",
       "      <td>18036</td>\n",
       "      <td>18036</td>\n",
       "      <td>Михаил</td>\n",
       "      <td>Ильич</td>\n",
       "      <td>Левандовский</td>\n",
       "      <td>0.892295</td>\n",
       "    </tr>\n",
       "    <tr>\n",
       "      <th>3</th>\n",
       "      <td>1</td>\n",
       "      <td>477200000</td>\n",
       "      <td>2019</td>\n",
       "      <td>4772</td>\n",
       "      <td>22799</td>\n",
       "      <td>22799</td>\n",
       "      <td>Сергей</td>\n",
       "      <td>Игоревич</td>\n",
       "      <td>Николенко</td>\n",
       "      <td>0.892295</td>\n",
       "    </tr>\n",
       "    <tr>\n",
       "      <th>4</th>\n",
       "      <td>1</td>\n",
       "      <td>477200000</td>\n",
       "      <td>2019</td>\n",
       "      <td>4772</td>\n",
       "      <td>15456</td>\n",
       "      <td>15456</td>\n",
       "      <td>Сергей</td>\n",
       "      <td>Владимирович</td>\n",
       "      <td>Коновалов</td>\n",
       "      <td>0.892295</td>\n",
       "    </tr>\n",
       "  </tbody>\n",
       "</table>\n",
       "</div>"
      ],
      "text/plain": [
       "   answer  question_id  year  team_id  player_id     id       name  \\\n",
       "0       1    477200000  2019     4772       6212   6212       Юрий   \n",
       "1       1    477200000  2019     4772      18332  18332  Александр   \n",
       "2       1    477200000  2019     4772      18036  18036     Михаил   \n",
       "3       1    477200000  2019     4772      22799  22799     Сергей   \n",
       "4       1    477200000  2019     4772      15456  15456     Сергей   \n",
       "\n",
       "     patronymic       surname  question_difficulty  \n",
       "0     Яковлевич       Выменец             0.892295  \n",
       "1    Витальевич         Либер             0.892295  \n",
       "2         Ильич  Левандовский             0.892295  \n",
       "3      Игоревич     Николенко             0.892295  \n",
       "4  Владимирович     Коновалов             0.892295  "
      ]
     },
     "execution_count": 6,
     "metadata": {},
     "output_type": "execute_result"
    }
   ],
   "source": [
    "df.head(5)"
   ]
  },
  {
   "cell_type": "code",
   "execution_count": 7,
   "metadata": {},
   "outputs": [
    {
     "data": {
      "text/plain": [
       "[<matplotlib.lines.Line2D at 0x7f1b9c739940>]"
      ]
     },
     "execution_count": 7,
     "metadata": {},
     "output_type": "execute_result"
    },
    {
     "data": {
      "image/png": "[encoded data removed]",
      "text/plain": [
       "<Figure size 432x288 with 1 Axes>"
      ]
     },
     "metadata": {
      "needs_background": "light"
     },
     "output_type": "display_data"
    }
   ],
   "source": [
    "# get normalized distribution of difficulties\n",
    "diffs = df['question_difficulty'].tolist()\n",
    "weights = np.ones_like(diffs)/float(len(diffs))\n",
    "normalised_distribution = plt.hist(diffs, weights=weights, bins = 100)\n",
    "plt.plot(normalised_distribution[1][0:100],normalised_distribution[0])"
   ]
  },
  {
   "cell_type": "code",
   "execution_count": 9,
   "metadata": {},
   "outputs": [
    {
     "name": "stderr",
     "output_type": "stream",
     "text": [
      "100%|██████████| 61711/61711 [24:45<00:00, 41.53it/s]\n"
     ]
    }
   ],
   "source": [
    "df['player_rating'] = None\n",
    "players = df['player_id'].unique().tolist()\n",
    "players_data = []\n",
    "for player in tqdm(players):\n",
    "    players_data.append((player, df[df['player_id'] == player][['question_difficulty','answer']]))"
   ]
  },
  {
   "cell_type": "code",
   "execution_count": null,
   "metadata": {},
   "outputs": [],
   "source": [
    "rates = []\n",
    "for player_data in tqdm(players_data):\n",
    "    player_model = LogisticRegression(solver='lbfgs')\n",
    "    try:\n",
    "        player_model.fit(player_data[1][['question_difficulty']], player_data[1]['answer'])\n",
    "        rates.append((player_data[0], np.dot(player_model.predict_proba([[i] for i in normalised_distribution[1][0:100]])[:, 1],\n",
    "                     normalised_distribution[0])))\n",
    "    except:\n",
    "        rates.append((player_data[0],player_data[1]['answer'][0]))"
   ]
  },
  {
   "cell_type": "code",
   "execution_count": null,
   "metadata": {},
   "outputs": [],
   "source": [
    "for player_rate in tqdm(rates):\n",
    "    df[df['player_id']==player_rate[0]]['player_rating'] = player_rate[1]\n",
    "df= df[['player_id', 'question_id', 'answer', 'question_difficulty', 'player_rating']]\n",
    "with open('data/df_baseline_rating.pkl', 'wb') as f:\n",
    "    pickle.dump(df, f)"
   ]
  },
  {
   "cell_type": "code",
   "execution_count": 2,
   "metadata": {},
   "outputs": [],
   "source": [
    "df = pickle.load(open('data/df_baseline_rating.pkl', 'rb'))"
   ]
  },
  {
   "cell_type": "code",
   "execution_count": 3,
   "metadata": {},
   "outputs": [
    {
     "data": {
      "text/plain": [
       "<matplotlib.axes._subplots.AxesSubplot at 0x7f09cbb27898>"
      ]
     },
     "execution_count": 3,
     "metadata": {},
     "output_type": "execute_result"
    },
    {
     "data": {
      "image/png": "[encoded data removed]",
      "text/plain": [
       "<Figure size 432x288 with 1 Axes>"
      ]
     },
     "metadata": {
      "needs_background": "light"
     },
     "output_type": "display_data"
    }
   ],
   "source": [
    "df['player_rating'].hist(bins=100)"
   ]
  },
  {
   "cell_type": "code",
   "execution_count": 22,
   "metadata": {},
   "outputs": [],
   "source": [
    "players = pickle.load(open('data/players.pkl', 'rb'))\n",
    "players_df = pd.DataFrame.from_dict(players, orient='index')"
   ]
  },
  {
   "cell_type": "code",
   "execution_count": 23,
   "metadata": {},
   "outputs": [
    {
     "data": {
      "text/html": [
       "<div>\n",
       "<style scoped>\n",
       "    .dataframe tbody tr th:only-of-type {\n",
       "        vertical-align: middle;\n",
       "    }\n",
       "\n",
       "    .dataframe tbody tr th {\n",
       "        vertical-align: top;\n",
       "    }\n",
       "\n",
       "    .dataframe thead th {\n",
       "        text-align: right;\n",
       "    }\n",
       "</style>\n",
       "<table border=\"1\" class=\"dataframe\">\n",
       "  <thead>\n",
       "    <tr style=\"text-align: right;\">\n",
       "      <th></th>\n",
       "      <th>name</th>\n",
       "      <th>surname</th>\n",
       "      <th>player_rating</th>\n",
       "    </tr>\n",
       "  </thead>\n",
       "  <tbody>\n",
       "    <tr>\n",
       "      <th>0</th>\n",
       "      <td>Павел</td>\n",
       "      <td>Щербина</td>\n",
       "      <td>0.972257</td>\n",
       "    </tr>\n",
       "    <tr>\n",
       "      <th>1</th>\n",
       "      <td>София</td>\n",
       "      <td>Лебедева</td>\n",
       "      <td>0.914663</td>\n",
       "    </tr>\n",
       "    <tr>\n",
       "      <th>2</th>\n",
       "      <td>Михаил</td>\n",
       "      <td>Завьялов</td>\n",
       "      <td>0.901762</td>\n",
       "    </tr>\n",
       "    <tr>\n",
       "      <th>3</th>\n",
       "      <td>Давид</td>\n",
       "      <td>Кан</td>\n",
       "      <td>0.901762</td>\n",
       "    </tr>\n",
       "    <tr>\n",
       "      <th>4</th>\n",
       "      <td>Екатерина</td>\n",
       "      <td>Горелова</td>\n",
       "      <td>0.857715</td>\n",
       "    </tr>\n",
       "    <tr>\n",
       "      <th>5</th>\n",
       "      <td>Наталья</td>\n",
       "      <td>Артемьева</td>\n",
       "      <td>0.857715</td>\n",
       "    </tr>\n",
       "    <tr>\n",
       "      <th>6</th>\n",
       "      <td>Юлия</td>\n",
       "      <td>Крюкова</td>\n",
       "      <td>0.857715</td>\n",
       "    </tr>\n",
       "    <tr>\n",
       "      <th>7</th>\n",
       "      <td>Полина</td>\n",
       "      <td>Джегур</td>\n",
       "      <td>0.850784</td>\n",
       "    </tr>\n",
       "    <tr>\n",
       "      <th>8</th>\n",
       "      <td>Елизавета</td>\n",
       "      <td>Коваленко</td>\n",
       "      <td>0.850784</td>\n",
       "    </tr>\n",
       "    <tr>\n",
       "      <th>9</th>\n",
       "      <td>Арина</td>\n",
       "      <td>Гринко</td>\n",
       "      <td>0.818928</td>\n",
       "    </tr>\n",
       "  </tbody>\n",
       "</table>\n",
       "</div>"
      ],
      "text/plain": [
       "        name    surname  player_rating\n",
       "0      Павел    Щербина       0.972257\n",
       "1      София   Лебедева       0.914663\n",
       "2     Михаил   Завьялов       0.901762\n",
       "3      Давид        Кан       0.901762\n",
       "4  Екатерина   Горелова       0.857715\n",
       "5    Наталья  Артемьева       0.857715\n",
       "6       Юлия    Крюкова       0.857715\n",
       "7     Полина     Джегур       0.850784\n",
       "8  Елизавета  Коваленко       0.850784\n",
       "9      Арина     Гринко       0.818928"
      ]
     },
     "execution_count": 23,
     "metadata": {},
     "output_type": "execute_result"
    }
   ],
   "source": [
    "palyers = df[['player_id', 'player_rating']].drop_duplicates()\n",
    "top_players = palyers.sort_values('player_rating', ascending=False).head(10)\n",
    "top_players = pd.merge(top_players, players_df, left_on=['player_id'], right_on=['id'])\n",
    "top_players[['name','surname','player_rating']]"
   ]
  },
  {
   "cell_type": "markdown",
   "metadata": {},
   "source": [
    "Здесь так же присутсвуют игроки, у которых мало игр. В идеале мы должны считать достоверный рейтинг только игроков с достаточно большим числом игр. "
   ]
  },
  {
   "cell_type": "markdown",
   "metadata": {},
   "source": [
    "### 3.\n",
    "Качество рейтинг-системы оценивается качеством предсказаний результатов турниров. Но сами повопросные результаты наши модели предсказывать вряд ли смогут, ведь неизвестно, насколько сложными окажутся вопросы в будущих турнирах; да и не нужны эти предсказания сами по себе. Поэтому:\n",
    "* предложите способ предсказать результаты нового турнира с известными составами, но неизвестными вопросами, в виде ранжирования команд;\n",
    "* в качестве метрики качества на тестовом наборе давайте считать ранговые корреляции Спирмена и Кендалла (их можно взять в пакете scipy) между реальным ранжированием в результатах турнира и предсказанным моделью, усреднённые по тестовому множеству турниров.\n"
   ]
  },
  {
   "cell_type": "markdown",
   "metadata": {},
   "source": [
    "____"
   ]
  },
  {
   "cell_type": "markdown",
   "metadata": {},
   "source": [
    "Рейтинг игрока имеет смысл матожидания ответа игроком на случайный вопрос. Тогда будем считать вероятность ответить команде на случайный вопрос как единицу минус произведение вероятностей членов команды не ответить на вопрос. Данную вероятность ответа команды будем считать рейтингом и сравнивать с реальной позицией при валидации."
   ]
  },
  {
   "cell_type": "code",
   "execution_count": 7,
   "metadata": {},
   "outputs": [],
   "source": [
    "tournaments = pickle.load(open('data/tournaments.pkl', 'rb'))\n",
    "tournaments_df = pd.DataFrame.from_dict(tournaments, orient='index')\n",
    "tournaments_df['year'] = tournaments_df['dateStart'].apply(lambda x: int(x.split('-')[0]))\n",
    "tournaments_val = tournaments_df[tournaments_df['year']==2020]"
   ]
  },
  {
   "cell_type": "code",
   "execution_count": null,
   "metadata": {},
   "outputs": [],
   "source": [
    "rated_players = palyers['player_id'].tolist()\n",
    "results = pickle.load(open('data/results.pkl', 'rb'))\n",
    "spearmans = []\n",
    "kendalls =[]\n",
    "\n",
    "for tournament_id in tqdm(tournaments_val['id'].tolist()):\n",
    "    if  results[tournament_id]:\n",
    "        if 'position' in results[tournament_id][0].keys():\n",
    "            true_team_ranks=[]\n",
    "            predicted_team_ranks=[]\n",
    "\n",
    "            for _, team in enumerate(results[tournament_id]):\n",
    "                true_team_ranks.append(team['position'])\n",
    "\n",
    "                prob_to_answer_wrong = 1\n",
    "                for player in team['teamMembers']:\n",
    "                    player_id = player['player']['id'] \n",
    "                    if player_id in rated_players:\n",
    "                        player_rating = palyers[palyers['player_id'] == player_id]['player_rating'].tolist()[0]\n",
    "                    else:\n",
    "                        player_rating = palyers['player_rating'].mean()\n",
    "                    prob_to_answer_wrong *= (1 - player_rating)\n",
    "                predicted_team_ranks.append(1 - prob_to_answer_wrong)\n",
    "                               \n",
    "                \n",
    "            spearman = sps.spearmanr(np.asarray(predicted_team_ranks), -np.asarray(true_team_ranks))[0]\n",
    "            kendall = sps.kendalltau(np.asarray(predicted_team_ranks), -np.asarray(true_team_ranks))[0]       \n",
    "            spearmans.append(spearman)\n",
    "            kendalls.append(kendall)\n",
    "            \n",
    "spearmans = [i for i in spearmans if not i!=i]\n",
    "kendalls = [i for i in kendalls if not i!=i]\n",
    "\n",
    "print('Mean Spearman: ',sum(spearmans)/len(spearmans))\n",
    "print('Mean Kendalltau: ',sum(kendalls)/len(kendalls))"
   ]
  },
  {
   "cell_type": "code",
   "execution_count": 53,
   "metadata": {},
   "outputs": [
    {
     "name": "stdout",
     "output_type": "stream",
     "text": [
      "Mean Spearman:  0.6672880916086193\n",
      "Mean Kendalltau:  0.5154203218219203\n"
     ]
    }
   ],
   "source": [
    "print('Mean Spearman: ',sum(spearmans)/len(spearmans))\n",
    "print('Mean Kendalltau: ',sum(kendalls)/len(kendalls))"
   ]
  },
  {
   "cell_type": "markdown",
   "metadata": {},
   "source": [
    "## 4.\n",
    "\n",
    "Теперь главное: ЧГК — это всё-таки командная игра. Поэтому:\n",
    "* предложите способ учитывать то, что на вопрос отвечают сразу несколько игроков;\n",
    "* скорее всего, понадобятся скрытые переменные; \n",
    "* не стесняйтесь делать упрощающие предположения, но теперь переменные “игрок X ответил на вопрос Y” при условии данных должны стать зависимыми для игроков одной и той же команды;\n",
    "* разработайте EM-схему для обучения этой модели, реализуйте её в коде;\n",
    "* обучите несколько итераций, убедитесь, что целевые метрики со временем растут (скорее всего, ненамного, но расти должны), выберите лучшую модель, используя целевые метрики.\n"
   ]
  },
  {
   "cell_type": "markdown",
   "metadata": {},
   "source": [
    "____"
   ]
  },
  {
   "cell_type": "markdown",
   "metadata": {},
   "source": [
    "Будем использовать скрытую переменную, означающую какие из игроков затащили вопрос (1, 1, 0, 0, 0, 1)\n",
    "\n",
    "На M-шаге максимизируем правдоподобие скрытой переменной (0.1, 0.3, 0.5, 0,1, 0)- того, что именно этот игрок затащил вопрос по его командам и их ответам.\n",
    "\n",
    "На Е-шаге мы обучаем модель регрессии, предсказывающей вероятность игрока взять вопрос в зависимости от вопроса и игрока. \"Сила\" игрока и сложность вопроса - обучаемые веса нашей модели.\n",
    "\n"
   ]
  },
  {
   "cell_type": "code",
   "execution_count": 2,
   "metadata": {},
   "outputs": [],
   "source": [
    "df = pickle.load(open('data/df.pkl', 'rb'))"
   ]
  },
  {
   "cell_type": "code",
   "execution_count": 4,
   "metadata": {},
   "outputs": [],
   "source": [
    "#one-hot encode indexes of player and question \n",
    "encoder = OneHotEncoder(handle_unknown='ignore')\n",
    "encoder.fit(df[['player_id', 'question_id']])\n",
    "sparce_matrix = encoder.transform(df[['player_id', 'question_id']])\n",
    "counts = np.array((sparce_matrix != 0).sum(axis=0)).ravel()\n",
    "\n",
    "#weights = \"force\" of player and difficulty of questions\n",
    "weights = np.random.randn(sparce_matrix.shape[1])\n",
    "p_player_to_answer = 1 / (1 + np.exp(-sparce_matrix.dot(weights))) \n",
    "\n",
    "#construct data for E-step\n",
    "df['negative_player_answer_prob'] = 1 - p_player_to_answer\n",
    "m_df = df[['team_id', 'question_id', 'negative_player_answer_prob']].groupby(by=['team_id', 'question_id'], sort=False, as_index=False).prod()\n",
    "from_id = (m_df['team_id'].apply(str) + m_df['question_id'].apply(str)).apply(int)\n",
    "to_id = (df['team_id'].apply(str) + df['question_id'].apply(str)).apply(int)"
   ]
  },
  {
   "cell_type": "code",
   "execution_count": 8,
   "metadata": {},
   "outputs": [],
   "source": [
    "def E_step(p_player_to_answer):\n",
    "    df['negative_player_answer_prob'] = 1 - p_player_to_answer\n",
    "    prods = df[['team_id', 'question_id', 'negative_player_answer_prob']].groupby(by=['team_id', 'question_id'], sort=False, as_index=False).prod()['negative_player_answer_prob']\n",
    "    prods.index = from_id\n",
    "    prods = prods[to_id].to_numpy()\n",
    "    hidden = p_player_to_answer / (1 - prods)\n",
    "    hidden[df['answer'] == 0] = 0\n",
    "    return hidden\n",
    "\n",
    "def M_step(sparce_matrix, weights, hidden, iterations=30, alpha=2):\n",
    "    weights = weights.copy()\n",
    "    for i in range(iterations):\n",
    "        p_player_to_answer = 1 / (1 + np.exp(-sparce_matrix.dot(weights)))\n",
    "        #weights optimization step\n",
    "        weights = weights + alpha * ((sparce_matrix.T).dot(hidden * (1 - p_player_to_answer) - (1 - hidden) * p_player_to_answer) / counts)\n",
    "    return weights\n",
    "\n",
    "def likelihood(hidden, sparce_matrix, weights):\n",
    "    p_player_to_answer = 1 / (1 + np.exp(-sparce_matrix.dot(weights)))\n",
    "    return np.mean(hidden * np.log(p_player_to_answer) + (1 - hidden) * np.log(1 - p_player_to_answer))"
   ]
  },
  {
   "cell_type": "code",
   "execution_count": 9,
   "metadata": {},
   "outputs": [
    {
     "name": "stderr",
     "output_type": "stream",
     "text": [
      "  0%|          | 0/10 [00:00<?, ?it/s]"
     ]
    },
    {
     "name": "stdout",
     "output_type": "stream",
     "text": [
      "Iteration:  0\n"
     ]
    },
    {
     "name": "stderr",
     "output_type": "stream",
     "text": [
      " 10%|█         | 1/10 [00:41<06:14, 41.63s/it]"
     ]
    },
    {
     "name": "stdout",
     "output_type": "stream",
     "text": [
      "Log likelihood: : -0.32131073511835934\n",
      "\n",
      "\n",
      "Iteration:  1\n"
     ]
    },
    {
     "name": "stderr",
     "output_type": "stream",
     "text": [
      " 20%|██        | 2/10 [01:18<05:22, 40.28s/it]"
     ]
    },
    {
     "name": "stdout",
     "output_type": "stream",
     "text": [
      "Log likelihood: : -0.22728705054941084\n",
      "\n",
      "\n",
      "Iteration:  2\n"
     ]
    },
    {
     "name": "stderr",
     "output_type": "stream",
     "text": [
      " 30%|███       | 3/10 [01:56<04:36, 39.48s/it]"
     ]
    },
    {
     "name": "stdout",
     "output_type": "stream",
     "text": [
      "Log likelihood: : -0.17902747443623437\n",
      "\n",
      "\n",
      "Iteration:  3\n"
     ]
    },
    {
     "name": "stderr",
     "output_type": "stream",
     "text": [
      " 40%|████      | 4/10 [02:33<03:52, 38.68s/it]"
     ]
    },
    {
     "name": "stdout",
     "output_type": "stream",
     "text": [
      "Log likelihood: : -0.14900367960558153\n",
      "\n",
      "\n",
      "Iteration:  4\n"
     ]
    },
    {
     "name": "stderr",
     "output_type": "stream",
     "text": [
      " 50%|█████     | 5/10 [03:11<03:12, 38.49s/it]"
     ]
    },
    {
     "name": "stdout",
     "output_type": "stream",
     "text": [
      "Log likelihood: : -0.1283896056556358\n",
      "\n",
      "\n",
      "Iteration:  5\n"
     ]
    },
    {
     "name": "stderr",
     "output_type": "stream",
     "text": [
      " 60%|██████    | 6/10 [03:49<02:33, 38.39s/it]"
     ]
    },
    {
     "name": "stdout",
     "output_type": "stream",
     "text": [
      "Log likelihood: : -0.11331183638858337\n",
      "\n",
      "\n",
      "Iteration:  6\n"
     ]
    },
    {
     "name": "stderr",
     "output_type": "stream",
     "text": [
      " 70%|███████   | 7/10 [04:27<01:54, 38.30s/it]"
     ]
    },
    {
     "name": "stdout",
     "output_type": "stream",
     "text": [
      "Log likelihood: : -0.10177794390029636\n",
      "\n",
      "\n",
      "Iteration:  7\n"
     ]
    },
    {
     "name": "stderr",
     "output_type": "stream",
     "text": [
      " 80%|████████  | 8/10 [05:04<01:16, 38.01s/it]"
     ]
    },
    {
     "name": "stdout",
     "output_type": "stream",
     "text": [
      "Log likelihood: : -0.0926534041677791\n",
      "\n",
      "\n",
      "Iteration:  8\n"
     ]
    },
    {
     "name": "stderr",
     "output_type": "stream",
     "text": [
      " 90%|█████████ | 9/10 [05:42<00:37, 37.89s/it]"
     ]
    },
    {
     "name": "stdout",
     "output_type": "stream",
     "text": [
      "Log likelihood: : -0.08524427806744683\n",
      "\n",
      "\n",
      "Iteration:  9\n"
     ]
    },
    {
     "name": "stderr",
     "output_type": "stream",
     "text": [
      "100%|██████████| 10/10 [06:21<00:00, 38.16s/it]"
     ]
    },
    {
     "name": "stdout",
     "output_type": "stream",
     "text": [
      "Log likelihood: : -0.07910221058578717\n",
      "\n",
      "\n"
     ]
    },
    {
     "name": "stderr",
     "output_type": "stream",
     "text": [
      "\n"
     ]
    }
   ],
   "source": [
    "iterations = 10\n",
    "for i in tqdm(range(iterations)):\n",
    "    if i == 0:\n",
    "        p_player_to_answer = 1 / (1 + np.exp(-sparce_matrix.dot(weights)))\n",
    "        hidden = E_step(p_player_to_answer)\n",
    "    weights = M_step(sparce_matrix, weights, hidden)\n",
    "    p_player_to_answer = 1 / (1 + np.exp(-sparce_matrix.dot(weights)))\n",
    "    hidden = E_step(p_player_to_answer)\n",
    "    print('Iteration: ', i)\n",
    "    print('Log likelihood: :', likelihood(hidden, sparce_matrix, weights))\n",
    "    print('\\n')"
   ]
  },
  {
   "cell_type": "code",
   "execution_count": 11,
   "metadata": {},
   "outputs": [],
   "source": [
    "# get weights of model - force of players and difficulty of questions\n",
    "idx_to_position = {}\n",
    "for i, fname in enumerate(encoder.get_feature_names()):\n",
    "    idx_to_position[int(fname[3:])] = i\n",
    "\n",
    "player_force = pd.Series(np.zeros(len(df['player_id'].unique())),\n",
    "                  df['player_id'].unique())\n",
    "for player in df['player_id'].unique():\n",
    "    player_force[player] = weights[idx_to_position[player]]\n",
    "\n",
    "\n",
    "questtion_diff = pd.Series(np.zeros(len(df['question_id'].unique())),\n",
    "                      df['question_id'].unique())\n",
    "for question in df['question_id'].unique():\n",
    "    questtion_diff[question] = weights[idx_to_position[question]]"
   ]
  },
  {
   "cell_type": "markdown",
   "metadata": {},
   "source": [
    "### Обученные сложности вопросов"
   ]
  },
  {
   "cell_type": "code",
   "execution_count": 44,
   "metadata": {},
   "outputs": [
    {
     "data": {
      "text/plain": [
       "<matplotlib.axes._subplots.AxesSubplot at 0x7fc573189128>"
      ]
     },
     "execution_count": 44,
     "metadata": {},
     "output_type": "execute_result"
    },
    {
     "data": {
      "image/png": "[encoded data removed]",
      "text/plain": [
       "<Figure size 432x288 with 1 Axes>"
      ]
     },
     "metadata": {
      "needs_background": "light"
     },
     "output_type": "display_data"
    }
   ],
   "source": [
    "questtion_diff.hist(bins=100)"
   ]
  },
  {
   "cell_type": "code",
   "execution_count": 45,
   "metadata": {},
   "outputs": [
    {
     "data": {
      "text/plain": [
       "[<matplotlib.lines.Line2D at 0x7fc573bc5dd8>]"
      ]
     },
     "execution_count": 45,
     "metadata": {},
     "output_type": "execute_result"
    },
    {
     "data": {
      "image/png": "[encoded data removed]",
      "text/plain": [
       "<Figure size 432x288 with 1 Axes>"
      ]
     },
     "metadata": {
      "needs_background": "light"
     },
     "output_type": "display_data"
    }
   ],
   "source": [
    "# get normalized distribution of difficulties\n",
    "diffs = questtion_diff.values\n",
    "weights = np.ones_like(diffs)/float(len(diffs))\n",
    "normalised_distribution = plt.hist(diffs, weights=weights, bins = 100)\n",
    "plt.plot(normalised_distribution[1][0:100],normalised_distribution[0])"
   ]
  },
  {
   "cell_type": "markdown",
   "metadata": {},
   "source": [
    "### Обученная сила игроков"
   ]
  },
  {
   "cell_type": "code",
   "execution_count": 46,
   "metadata": {},
   "outputs": [
    {
     "data": {
      "text/plain": [
       "<matplotlib.axes._subplots.AxesSubplot at 0x7fc5744240f0>"
      ]
     },
     "execution_count": 46,
     "metadata": {},
     "output_type": "execute_result"
    },
    {
     "data": {
      "image/png": "[encoded data removed]",
      "text/plain": [
       "<Figure size 432x288 with 1 Axes>"
      ]
     },
     "metadata": {
      "needs_background": "light"
     },
     "output_type": "display_data"
    }
   ],
   "source": [
    "player_force.hist(bins=100)"
   ]
  },
  {
   "cell_type": "markdown",
   "metadata": {},
   "source": [
    "Рейтинг игрока - взвещенная (на вероятность появления вопроса определённой сложности) сумма его ответов на вопросы всех сложностей, - численная апроксимация интеграла для вычисления матожидания ответа на вопрос."
   ]
  },
  {
   "cell_type": "code",
   "execution_count": 66,
   "metadata": {},
   "outputs": [],
   "source": [
    "df['player_rating'] = 0\n",
    "palyers = df[['player_id', 'player_rating']].drop_duplicates()\n",
    "players_rates = []\n",
    "\n",
    "for player_id in palyers['player_id'].tolist():\n",
    "    preds = 1 / (1 + np.exp(-(player_force[player_id] + normalised_distribution[1][0:100])))\n",
    "    rate = np.dot(preds, normalised_distribution[0])\n",
    "    players_rates.append(rate) \n",
    "\n",
    "palyers['player_rating'] = players_rates"
   ]
  },
  {
   "cell_type": "code",
   "execution_count": 67,
   "metadata": {},
   "outputs": [
    {
     "data": {
      "text/plain": [
       "<matplotlib.axes._subplots.AxesSubplot at 0x7fc62566a6d8>"
      ]
     },
     "execution_count": 67,
     "metadata": {},
     "output_type": "execute_result"
    },
    {
     "data": {
      "image/png": "[encoded data removed]",
      "text/plain": [
       "<Figure size 432x288 with 1 Axes>"
      ]
     },
     "metadata": {
      "needs_background": "light"
     },
     "output_type": "display_data"
    }
   ],
   "source": [
    "palyers['player_rating'].hist(bins=100)"
   ]
  },
  {
   "cell_type": "code",
   "execution_count": 69,
   "metadata": {},
   "outputs": [
    {
     "data": {
      "text/html": [
       "<div>\n",
       "<style scoped>\n",
       "    .dataframe tbody tr th:only-of-type {\n",
       "        vertical-align: middle;\n",
       "    }\n",
       "\n",
       "    .dataframe tbody tr th {\n",
       "        vertical-align: top;\n",
       "    }\n",
       "\n",
       "    .dataframe thead th {\n",
       "        text-align: right;\n",
       "    }\n",
       "</style>\n",
       "<table border=\"1\" class=\"dataframe\">\n",
       "  <thead>\n",
       "    <tr style=\"text-align: right;\">\n",
       "      <th></th>\n",
       "      <th>name</th>\n",
       "      <th>surname</th>\n",
       "      <th>player_rating</th>\n",
       "    </tr>\n",
       "  </thead>\n",
       "  <tbody>\n",
       "    <tr>\n",
       "      <th>0</th>\n",
       "      <td>Дмитрий</td>\n",
       "      <td>Вальтер</td>\n",
       "      <td>0.359090</td>\n",
       "    </tr>\n",
       "    <tr>\n",
       "      <th>1</th>\n",
       "      <td>Дмитрий</td>\n",
       "      <td>Кудинов</td>\n",
       "      <td>0.357116</td>\n",
       "    </tr>\n",
       "    <tr>\n",
       "      <th>2</th>\n",
       "      <td>Егор</td>\n",
       "      <td>Будников</td>\n",
       "      <td>0.328580</td>\n",
       "    </tr>\n",
       "    <tr>\n",
       "      <th>3</th>\n",
       "      <td>Степан</td>\n",
       "      <td>Павлов</td>\n",
       "      <td>0.322156</td>\n",
       "    </tr>\n",
       "    <tr>\n",
       "      <th>4</th>\n",
       "      <td>Антон</td>\n",
       "      <td>Саксонов</td>\n",
       "      <td>0.306297</td>\n",
       "    </tr>\n",
       "    <tr>\n",
       "      <th>5</th>\n",
       "      <td>Артём</td>\n",
       "      <td>Усенко</td>\n",
       "      <td>0.303297</td>\n",
       "    </tr>\n",
       "    <tr>\n",
       "      <th>6</th>\n",
       "      <td>Елена</td>\n",
       "      <td>Бровченко</td>\n",
       "      <td>0.299406</td>\n",
       "    </tr>\n",
       "    <tr>\n",
       "      <th>7</th>\n",
       "      <td>Иван</td>\n",
       "      <td>Эйхгольц</td>\n",
       "      <td>0.297798</td>\n",
       "    </tr>\n",
       "    <tr>\n",
       "      <th>8</th>\n",
       "      <td>Вадим</td>\n",
       "      <td>Молдавский</td>\n",
       "      <td>0.296692</td>\n",
       "    </tr>\n",
       "    <tr>\n",
       "      <th>9</th>\n",
       "      <td>Илья</td>\n",
       "      <td>Новиков</td>\n",
       "      <td>0.288337</td>\n",
       "    </tr>\n",
       "  </tbody>\n",
       "</table>\n",
       "</div>"
      ],
      "text/plain": [
       "      name     surname  player_rating\n",
       "0  Дмитрий     Вальтер       0.359090\n",
       "1  Дмитрий     Кудинов       0.357116\n",
       "2     Егор    Будников       0.328580\n",
       "3   Степан      Павлов       0.322156\n",
       "4    Антон    Саксонов       0.306297\n",
       "5    Артём      Усенко       0.303297\n",
       "6    Елена   Бровченко       0.299406\n",
       "7     Иван    Эйхгольц       0.297798\n",
       "8    Вадим  Молдавский       0.296692\n",
       "9     Илья     Новиков       0.288337"
      ]
     },
     "execution_count": 69,
     "metadata": {},
     "output_type": "execute_result"
    }
   ],
   "source": [
    "players_ = pickle.load(open('data/players.pkl', 'rb'))\n",
    "players_df = pd.DataFrame.from_dict(players_, orient='index')\n",
    "top_players = palyers.sort_values('player_rating', ascending=False).head(10)\n",
    "top_players = pd.merge(top_players, players_df, left_on=['player_id'], right_on=['id'])\n",
    "top_players[['name','surname','player_rating']]"
   ]
  },
  {
   "cell_type": "code",
   "execution_count": 71,
   "metadata": {},
   "outputs": [],
   "source": [
    "tournaments = pickle.load(open('data/tournaments.pkl', 'rb'))\n",
    "tournaments_df = pd.DataFrame.from_dict(tournaments, orient='index')\n",
    "tournaments_df['year'] = tournaments_df['dateStart'].apply(lambda x: int(x.split('-')[0]))\n",
    "tournaments_val = tournaments_df[tournaments_df['year']==2020]"
   ]
  },
  {
   "cell_type": "code",
   "execution_count": 72,
   "metadata": {},
   "outputs": [
    {
     "name": "stderr",
     "output_type": "stream",
     "text": [
      " 25%|██▌       | 105/418 [01:36<03:59,  1.31it/s]/home/w/anaconda3/lib/python3.6/site-packages/numpy/lib/function_base.py:2530: RuntimeWarning: invalid value encountered in true_divide\n",
      "  c /= stddev[:, None]\n",
      "/home/w/anaconda3/lib/python3.6/site-packages/numpy/lib/function_base.py:2531: RuntimeWarning: invalid value encountered in true_divide\n",
      "  c /= stddev[None, :]\n",
      "/home/w/anaconda3/lib/python3.6/site-packages/scipy/stats/_distn_infrastructure.py:877: RuntimeWarning: invalid value encountered in greater\n",
      "  return (self.a < x) & (x < self.b)\n",
      "/home/w/anaconda3/lib/python3.6/site-packages/scipy/stats/_distn_infrastructure.py:877: RuntimeWarning: invalid value encountered in less\n",
      "  return (self.a < x) & (x < self.b)\n",
      "/home/w/anaconda3/lib/python3.6/site-packages/scipy/stats/_distn_infrastructure.py:1831: RuntimeWarning: invalid value encountered in less_equal\n",
      "  cond2 = cond0 & (x <= self.a)\n",
      "100%|██████████| 418/418 [02:40<00:00,  2.61it/s]"
     ]
    },
    {
     "name": "stdout",
     "output_type": "stream",
     "text": [
      "Mean Spearman:  0.8040084929801625\n",
      "Mean Kendalltau:  0.6483604151194383\n"
     ]
    },
    {
     "name": "stderr",
     "output_type": "stream",
     "text": [
      "\n"
     ]
    }
   ],
   "source": [
    "rated_players = palyers['player_id'].tolist()\n",
    "results = pickle.load(open('data/results.pkl', 'rb'))\n",
    "spearmans = []\n",
    "kendalls =[]\n",
    "\n",
    "for tournament_id in tqdm(tournaments_val['id'].tolist()):\n",
    "    if  results[tournament_id]:\n",
    "        if 'position' in results[tournament_id][0].keys():\n",
    "            true_team_ranks=[]\n",
    "            predicted_team_ranks=[]\n",
    "\n",
    "            for _, team in enumerate(results[tournament_id]):\n",
    "                true_team_ranks.append(team['position'])\n",
    "\n",
    "                prob_to_answer_wrong = 1\n",
    "                for player in team['teamMembers']:\n",
    "                    player_id = player['player']['id'] \n",
    "                    if player_id in rated_players:\n",
    "                        player_rating = palyers[palyers['player_id'] == player_id]['player_rating'].tolist()[0]\n",
    "                    else:\n",
    "                        player_rating = palyers['player_rating'].mean()\n",
    "                    prob_to_answer_wrong *= (1 - player_rating)\n",
    "                predicted_team_ranks.append(1 - prob_to_answer_wrong)\n",
    "                               \n",
    "                \n",
    "            spearman = sps.spearmanr(np.asarray(predicted_team_ranks), -np.asarray(true_team_ranks))[0]\n",
    "            kendall = sps.kendalltau(np.asarray(predicted_team_ranks), -np.asarray(true_team_ranks))[0]       \n",
    "            spearmans.append(spearman)\n",
    "            kendalls.append(kendall)\n",
    "            \n",
    "spearmans = [i for i in spearmans if not i!=i]\n",
    "kendalls = [i for i in kendalls if not i!=i]\n",
    "\n",
    "print('Mean Spearman: ',sum(spearmans)/len(spearmans))\n",
    "print('Mean Kendalltau: ',sum(kendalls)/len(kendalls))"
   ]
  },
  {
   "cell_type": "markdown",
   "metadata": {},
   "source": [
    "## 5.\n",
    "\n",
    "А что там с вопросами? Постройте “рейтинг-лист” турниров по сложности вопросов. Соответствует ли он интуиции (например, на чемпионате мира в целом должны быть сложные вопросы, а на турнирах для школьников — простые)? Если будет интересно: постройте топ сложных и простых вопросов со ссылками на конкретные записи в базе вопросов ЧГК (это чисто техническое дело, тут никакого ML нету)."
   ]
  },
  {
   "cell_type": "code",
   "execution_count": 23,
   "metadata": {},
   "outputs": [],
   "source": [
    "tournaments = pickle.load(open('data/tournaments.pkl', 'rb'))\n",
    "tournaments_df = pd.DataFrame.from_dict(tournaments, orient='index')\n",
    "tournaments_df['year'] = tournaments_df['dateStart'].apply(lambda x: int(x.split('-')[0]))\n",
    "tournaments_train = tournaments_df[tournaments_df['year']==2019]\n",
    "results = pickle.load(open('data/results.pkl', 'rb'))\n",
    "tournament_difficulties = {}\n",
    "\n",
    "for tournament_id in tournaments_train['id'].tolist():\n",
    "    tournament_difficulty = []\n",
    "    if len(results[tournament_id]) > 0:\n",
    "        if 'mask' in results[tournament_id][0].keys():\n",
    "            for i in range(len(results[tournament_id][0]['mask'] or [])):\n",
    "                question_id = tournament_id*100000 + i\n",
    "                try:\n",
    "                    tournament_difficulty.append(weights[idx_to_position[question_id]])\n",
    "                except KeyError:\n",
    "                    pass\n",
    "            if num_questions > 0:\n",
    "                tournament_difficulties[tournament_id] = sum(tournament_difficulty)/len(tournament_difficulty)\n",
    "tournament_difficulties = pd.Series(tournament_difficulties).sort_values()"
   ]
  },
  {
   "cell_type": "markdown",
   "metadata": {},
   "source": [
    "### Сложнейшие турниры"
   ]
  },
  {
   "cell_type": "code",
   "execution_count": 32,
   "metadata": {},
   "outputs": [
    {
     "name": "stdout",
     "output_type": "stream",
     "text": [
      "1. Чемпионат Санкт-Петербурга. Первая лига\n",
      "2. Угрюмый Ёрш\n",
      "3. Первенство правого полушария\n",
      "4. Воображаемый музей\n",
      "5. Чемпионат России\n",
      "6. Чемпионат Мира. Этап 3. Группа В\n",
      "7. Ускользающая сова\n",
      "8. Чемпионат Мира. Этап 2. Группа В\n",
      "9. Знание – Сила VI\n",
      "10. Тихий Донец: омут первый\n"
     ]
    }
   ],
   "source": [
    "for i, tournament_id in enumerate(tournament_difficulties.index[:10], 1):\n",
    "    print(str(i)+ \". \" +  tournaments[tournament_id][\"name\"])"
   ]
  },
  {
   "cell_type": "markdown",
   "metadata": {},
   "source": [
    "#### Похоже на интуитивные представления!"
   ]
  },
  {
   "cell_type": "markdown",
   "metadata": {},
   "source": [
    "### Простейшие турниры"
   ]
  },
  {
   "cell_type": "code",
   "execution_count": 34,
   "metadata": {},
   "outputs": [
    {
     "name": "stdout",
     "output_type": "stream",
     "text": [
      "1. One ring - async\n",
      "2. Студенческий чемпионат Калининградской области\n",
      "3. (а)Синхрон-lite. Лига старта. Эпизод V\n",
      "4. (а)Синхрон-lite. Лига старта. Эпизод III\n",
      "5. Чемпионат Караганды\n",
      "6. Межфакультетский кубок МГУ. Отбор №4\n",
      "7. Второй тематический турнир имени Джоуи Триббиани\n",
      "8. (а)Синхрон-lite. Лига старта. Эпизод IX\n",
      "9. Олимпиада Приволжского федерального округа. Финал\n",
      "10. Шестой киевский марафон. Асинхрон\n"
     ]
    }
   ],
   "source": [
    "for i, tournament_id in enumerate(tournament_difficulties.index[-1:-11:-1], 1):\n",
    "    print(str(i)+ \". \" +  tournaments[tournament_id][\"name\"])"
   ]
  }
 ],
 "metadata": {
  "kernelspec": {
   "display_name": "Python 3",
   "language": "python",
   "name": "python3"
  },
  "language_info": {
   "codemirror_mode": {
    "name": "ipython",
    "version": 3
   },
   "file_extension": ".py",
   "mimetype": "text/x-python",
   "name": "python",
   "nbconvert_exporter": "python",
   "pygments_lexer": "ipython3",
   "version": "3.6.10"
  }
 },
 "nbformat": 4,
 "nbformat_minor": 4
}
